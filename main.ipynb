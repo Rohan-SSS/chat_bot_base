{
 "cells": [
  {
   "cell_type": "code",
   "execution_count": null,
   "metadata": {},
   "outputs": [],
   "source": [
    "from langchain.document_loaders import DirectoryLoader\n",
    "from langchain.text_splitter import CharacterTextSplitter\n",
    "\n",
    "from langchain.vectorstores import Pinecone\n",
    "from langchain.embeddings.openai import OpenAIEmbeddings\n",
    "import pinecone\n",
    "\n",
    "from langchain.chains.question_answering import load_qa_chain\n",
    "from langchain.llms import OpenAI\n",
    "\n",
    "import os"
   ]
  },
  {
   "cell_type": "code",
   "execution_count": null,
   "metadata": {},
   "outputs": [],
   "source": [
    "# splitting the docs into chunks of manageable size\n",
    "def split_docs(docs_folder_path):\n",
    "  # langchain directory loader \n",
    "  loader = DirectoryLoader(docs_folder_path)\n",
    "  # load the docs \n",
    "  docs = loader.load()\n",
    "  # split the docs into chunks \n",
    "  char_text_splitter = CharacterTextSplitter(chunk_size=1024, chunk_overlap=0)\n",
    "  doc_texts = char_text_splitter.split_documents(docs)\n",
    "  return doc_texts\n",
    "\n",
    "doc_texts = split_docs('docs')\n",
    "doc_texts"
   ]
  },
  {
   "cell_type": "code",
   "execution_count": null,
   "metadata": {},
   "outputs": [],
   "source": [
    "# keys\n",
    "openai_key = os.getenv(\"OPENAI_API_KEY\")\n",
    "pinecone_key = os.getenv(\"PINECONE_API_KEY\")\n",
    "pinecoen_env = os.getenv(\"PINECONE_ENVIRONMENT\")"
   ]
  },
  {
   "cell_type": "code",
   "execution_count": null,
   "metadata": {},
   "outputs": [],
   "source": [
    "# embedding model to use\n",
    "EMBEDDING_MODEL = \"text-embedding-ada-002\"\n",
    "OUTPUT_DIM = 1536"
   ]
  },
  {
   "cell_type": "code",
   "execution_count": null,
   "metadata": {},
   "outputs": [],
   "source": [
    "# init embeddings object\n",
    "embeddings = OpenAIEmbeddings(openai_api_key=openai_key)\n",
    "\n",
    "# init pinecone\n",
    "pinecone.init(\n",
    "  api_key=pinecone_key,\n",
    "  environment=pinecoen_env,\n",
    ")"
   ]
  },
  {
   "cell_type": "code",
   "execution_count": null,
   "metadata": {},
   "outputs": [],
   "source": [
    "# index_name -> index vector name in Pinecone\n",
    "index_name = \"YOUR_INDEX_NAME\"\n",
    "# init index obj of pinecone\n",
    "index = pinecone.Index(index_name)\n",
    "# check \n",
    "index.describe_index_stats()"
   ]
  },
  {
   "cell_type": "code",
   "execution_count": null,
   "metadata": {},
   "outputs": [],
   "source": [
    "# upsert your embeddings to pinecone (takes care of cosine similarity)\n",
    "doc_store = Pinecone.from_texts([d.page_content for d in doc_texts], embeddings, index_name=index_name)"
   ]
  },
  {
   "cell_type": "code",
   "execution_count": null,
   "metadata": {},
   "outputs": [],
   "source": [
    "# question the chatbot and prompt it how ever you prefer \n",
    "question = \"YOUR_QUESTION\"\n",
    "query = f\"PRE_INSTRUCTIONS {question} POST_INSTRUCTIONS\""
   ]
  },
  {
   "cell_type": "code",
   "execution_count": null,
   "metadata": {},
   "outputs": [],
   "source": [
    "# check to see the knowledge base the query searches for --> similarity_search <--\n",
    "docs = doc_store.similarity_search(query)\n",
    "docs"
   ]
  },
  {
   "cell_type": "code",
   "execution_count": null,
   "metadata": {},
   "outputs": [],
   "source": [
    "def answer_query(query):\n",
    "  # generate response to the query\n",
    "  # openai llm which langchain uses\n",
    "  llm = OpenAI(temperature=0.2, openai_api_key=openai_key)\n",
    "\n",
    "  qa_chain = load_qa_chain(llm, chain_type=\"stuff\")\n",
    "  docs = doc_store.similarity_search(query)\n",
    "\n",
    "  # used for question and answering\n",
    "  answer = qa_chain.run(input_documents = docs, question=query)\n",
    "  return answer"
   ]
  },
  {
   "cell_type": "code",
   "execution_count": null,
   "metadata": {},
   "outputs": [],
   "source": [
    "answer_query(query)"
   ]
  }
 ],
 "metadata": {
  "language_info": {
   "name": "python"
  },
  "orig_nbformat": 4
 },
 "nbformat": 4,
 "nbformat_minor": 2
}
