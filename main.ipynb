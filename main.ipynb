{
 "cells": [
  {
   "cell_type": "code",
   "execution_count": 15,
   "metadata": {},
   "outputs": [],
   "source": [
    "from langchain.document_loaders import DirectoryLoader\n",
    "from langchain.text_splitter import CharacterTextSplitter\n",
    "\n",
    "from langchain.vectorstores import Pinecone\n",
    "from langchain.embeddings.openai import OpenAIEmbeddings\n",
    "import pinecone\n",
    "\n",
    "from langchain.chains.question_answering import load_qa_chain\n",
    "from langchain.llms import OpenAI\n",
    "from langchain.chat_models import ChatOpenAI\n",
    "\n",
    "import os"
   ]
  },
  {
   "cell_type": "code",
   "execution_count": null,
   "metadata": {},
   "outputs": [],
   "source": [
    "# splitting the docs into chunks of manageable size\n",
    "def split_docs(docs_folder_path):\n",
    "  # langchain directory loader \n",
    "  loader = DirectoryLoader(docs_folder_path)\n",
    "  # load the docs \n",
    "  docs = loader.load()\n",
    "  # split the docs into chunks \n",
    "  char_text_splitter = CharacterTextSplitter(chunk_size=1024, chunk_overlap=0)\n",
    "  doc_texts = char_text_splitter.split_documents(docs)\n",
    "  return doc_texts\n",
    "\n",
    "doc_texts = split_docs('docs')\n",
    "doc_texts"
   ]
  },
  {
   "cell_type": "code",
   "execution_count": 2,
   "metadata": {},
   "outputs": [],
   "source": [
    "# keys\n",
    "openai_key = os.getenv(\"OPENAI_API_KEY\")\n",
    "pinecone_key = os.getenv(\"PINECONE_API_KEY\")\n",
    "pinecoen_env = os.getenv(\"PINECONE_ENVIRONMENT\")"
   ]
  },
  {
   "cell_type": "code",
   "execution_count": 3,
   "metadata": {},
   "outputs": [],
   "source": [
    "# embedding model to use\n",
    "EMBEDDING_MODEL = \"text-embedding-ada-002\"\n",
    "OUTPUT_DIM = 1536"
   ]
  },
  {
   "cell_type": "code",
   "execution_count": 8,
   "metadata": {},
   "outputs": [],
   "source": [
    "# init embeddings object\n",
    "embeddings = OpenAIEmbeddings(openai_api_key=openai_key)\n",
    "\n",
    "# init pinecone\n",
    "pinecone.init(\n",
    "  api_key=pinecone_key,\n",
    "  environment=pinecoen_env,\n",
    ")"
   ]
  },
  {
   "cell_type": "code",
   "execution_count": 6,
   "metadata": {},
   "outputs": [
    {
     "data": {
      "text/plain": [
       "{'dimension': 1536,\n",
       " 'index_fullness': 0.00014,\n",
       " 'namespaces': {'': {'vector_count': 14}},\n",
       " 'total_vector_count': 14}"
      ]
     },
     "execution_count": 6,
     "metadata": {},
     "output_type": "execute_result"
    }
   ],
   "source": [
    "# index_name -> index vector name in Pinecone\n",
    "index_name = \"woman-safety-embeddings\"\n",
    "# init index obj of pinecone\n",
    "index = pinecone.Index(index_name)\n",
    "# check \n",
    "index.describe_index_stats()"
   ]
  },
  {
   "cell_type": "code",
   "execution_count": null,
   "metadata": {},
   "outputs": [],
   "source": [
    "# upsert your embeddings to pinecone (takes care of cosine similarity)\n",
    "doc_store = Pinecone.from_texts([d.page_content for d in doc_texts], embeddings, index_name=index_name)"
   ]
  },
  {
   "cell_type": "code",
   "execution_count": null,
   "metadata": {},
   "outputs": [],
   "source": [
    "# question the chatbot and prompt it how ever you prefer \n",
    "question = \"YOUR_QUESTION\"\n",
    "query = f\"PRE_INSTRUCTIONS {question} POST_INSTRUCTIONS\""
   ]
  },
  {
   "cell_type": "code",
   "execution_count": null,
   "metadata": {},
   "outputs": [],
   "source": [
    "# check to see the knowledge base the query searches for --> similarity_search <--\n",
    "docs = doc_store.similarity_search(query)\n",
    "docs"
   ]
  },
  {
   "cell_type": "code",
   "execution_count": null,
   "metadata": {},
   "outputs": [],
   "source": [
    "def answer_query(query):\n",
    "  # generate response to the query\n",
    "  # openai llm which langchain uses\n",
    "  llm = OpenAI(temperature=0.2, openai_api_key=openai_key)\n",
    "\n",
    "  qa_chain = load_qa_chain(llm, chain_type=\"stuff\")\n",
    "  docs = doc_store.similarity_search(query)\n",
    "\n",
    "  # used for question and answering\n",
    "  answer = qa_chain.run(input_documents = docs, question=query)\n",
    "  return answer"
   ]
  },
  {
   "cell_type": "code",
   "execution_count": null,
   "metadata": {},
   "outputs": [],
   "source": [
    "answer_query(query)"
   ]
  },
  {
   "cell_type": "code",
   "execution_count": 17,
   "metadata": {},
   "outputs": [],
   "source": [
    "question = \"please i want to know How to get better at football\"\n",
    "query = f\"You are a chatbot personalised for a woman safety application, you have been provided a context and now answer {query} without going out of context or hallucinating or providing fabricated information, just stick to the context \"\n",
    "# You are a chatbot personalised for a woman safety application, you have been provided a context and now answer {query} without going out of context or hallucinating or providing fabricated information, just stick to the context "
   ]
  },
  {
   "cell_type": "markdown",
   "metadata": {},
   "source": [
    "To query the db directly"
   ]
  },
  {
   "cell_type": "code",
   "execution_count": null,
   "metadata": {},
   "outputs": [],
   "source": [
    "llm = ChatOpenAI(model_name=\"gpt-3.5-turbo\", temperature=0.8, openai_api_key=openai_key)\n",
    "# embeddings = OpenAIEmbeddings(openai_api_key=openai_key)\n",
    "chain = load_qa_chain(llm, chain_type=\"stuff\")\n",
    "docsearch = Pinecone.from_existing_index(index_name, embeddings)\n",
    "docs = docsearch.similarity_search(query)\n",
    "answer = chain.run(input_documents = docs, question=query)\n",
    "answer"
   ]
  }
 ],
 "metadata": {
  "kernelspec": {
   "display_name": "venv",
   "language": "python",
   "name": "python3"
  },
  "language_info": {
   "codemirror_mode": {
    "name": "ipython",
    "version": 3
   },
   "file_extension": ".py",
   "mimetype": "text/x-python",
   "name": "python",
   "nbconvert_exporter": "python",
   "pygments_lexer": "ipython3",
   "version": "3.11.4"
  },
  "orig_nbformat": 4
 },
 "nbformat": 4,
 "nbformat_minor": 2
}
